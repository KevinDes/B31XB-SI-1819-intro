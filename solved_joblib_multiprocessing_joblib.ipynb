{
 "cells": [
  {
   "cell_type": "markdown",
   "metadata": {},
   "source": [
    "### multiprocessing"
   ]
  },
  {
   "cell_type": "code",
   "execution_count": 1,
   "metadata": {
    "collapsed": true
   },
   "outputs": [],
   "source": [
    "import multiprocessing as mp\n",
    "import random\n",
    "import string"
   ]
  },
  {
   "cell_type": "code",
   "execution_count": 2,
   "metadata": {
    "collapsed": true
   },
   "outputs": [],
   "source": [
    "random.seed(123)\n",
    "\n",
    "# Define an output queue\n",
    "output = mp.Queue()"
   ]
  },
  {
   "cell_type": "code",
   "execution_count": 3,
   "metadata": {
    "collapsed": true
   },
   "outputs": [],
   "source": [
    "# define a example function\n",
    "def rand_string(length, output):\n",
    "    \"\"\" Generates a random string of numbers, lower- and uppercase chars. \"\"\"\n",
    "    rand_str = ''.join(random.choice(\n",
    "        string.ascii_lowercase +\n",
    "        string.ascii_uppercase +\n",
    "        string.digits)\n",
    "                       for i in range(length))\n",
    "    output.put(rand_str)\n"
   ]
  },
  {
   "cell_type": "code",
   "execution_count": 24,
   "metadata": {},
   "outputs": [
    {
     "data": {
      "text/plain": [
       "'eLvb6'"
      ]
     },
     "execution_count": 24,
     "metadata": {},
     "output_type": "execute_result"
    }
   ],
   "source": [
    "rand_string(6, output)\n",
    "output.get()"
   ]
  },
  {
   "cell_type": "code",
   "execution_count": 4,
   "metadata": {
    "collapsed": true
   },
   "outputs": [],
   "source": [
    "# Setup a list of processes that we want to run\n",
    "processes = [mp.Process(target=rand_string, args=(5, output))\n",
    "             for x in range(100)]"
   ]
  },
  {
   "cell_type": "code",
   "execution_count": 16,
   "metadata": {
    "collapsed": true
   },
   "outputs": [],
   "source": [
    "# Run processes\n",
    "for p in processes:\n",
    "    p.start()"
   ]
  },
  {
   "cell_type": "code",
   "execution_count": 17,
   "metadata": {
    "collapsed": true
   },
   "outputs": [],
   "source": [
    "# Exit the completed processes\n",
    "for p in processes:\n",
    "    p.join()"
   ]
  },
  {
   "cell_type": "code",
   "execution_count": 18,
   "metadata": {},
   "outputs": [
    {
     "name": "stdout",
     "output_type": "stream",
     "text": [
      "['rg153', 'cyIJv', '1sQSw', 'Sjw17', 'f9qvD', 'qjo2W', 'qfvQc', 'qCWji', '0l8Rb', 'O36YG', 'f7mcE', 'QJTSF', 'e3hVe', 'ri4XF', 'Q3SkS', '4yymv', 'M4w7p', '4mQGO', '30O6M', 'kdrQu', 'f4qZh', 'xbWJs', 'Fwajl', '89igc', 'lCnOm', 'Gm8Ml', '6i4jn', '4qHaX', 'j1eIu', 'lmSGi', 'BhEVH', 'kHDNb', 'Kaq7q', 'fjUfI', 'maQvd', 'DT94c', 'qFqZv', '3nHOk', 'hOyMl', 'c6QZO', 'viw1g', 'jbjUi', 'WUEWu', '7e3bg', 'rTH9R', 'p1weP', 'WGo46', 'q4lnE', 'VsDr2', 'OAOaQ', 'zvzVL', 'PmoIe', 'dsUlS', '81sYf', 'fJp7G', '7jdYm', 'WLgVH', 'GkEQf', '6LnFH', 'rsqJ2', 'DqAB3', 'irdYx', 'BTWiL', 'ChQIz', 'HWgMi', 'SH24w', 'oA2ix', 'yolUw', 'wf6DV', '9gpq5', 'ZCIFx', 'NOe3G', 'r2Wb7', 'cdZQn', '6tt3z', 'GDZB5', '0PZkm', 'y5fGp', '1E2jW', 'qWSmB', 'EHyYR', 'JEGyw', 'FB4UK', 'ZkEkn', 'cgqta', 'SxlEw', 'bvWl3', '2xYXq', '7JhXe', 'FdlsF', 'QZyvZ', 'lmQKN', '0rlLc', 'wjXp8', 'JQbLC', '8Z9Dl', 'yP50A', 'zcplG', 'CNure', 'ya6nQ']\n"
     ]
    }
   ],
   "source": [
    "# Get process results from the output queue\n",
    "results = [output.get() for p in processes]\n",
    "\n",
    "print(results)"
   ]
  },
  {
   "cell_type": "markdown",
   "metadata": {},
   "source": [
    "### joblib"
   ]
  },
  {
   "cell_type": "code",
   "execution_count": 25,
   "metadata": {
    "collapsed": true
   },
   "outputs": [],
   "source": [
    "import random\n",
    "import string\n",
    "\n",
    "from joblib import Parallel, delayed\n",
    "\n",
    "random.seed(123)"
   ]
  },
  {
   "cell_type": "code",
   "execution_count": 26,
   "metadata": {
    "collapsed": true
   },
   "outputs": [],
   "source": [
    "# define a example function\n",
    "def rand_string(length):\n",
    "    \"\"\" Generates a random string of numbers, lower- and uppercase chars. \"\"\"\n",
    "    rand_str = ''.join(random.choice(\n",
    "        string.ascii_lowercase +\n",
    "        string.ascii_uppercase +\n",
    "        string.digits)\n",
    "                       for i in range(length))\n",
    "    return rand_str"
   ]
  },
  {
   "cell_type": "code",
   "execution_count": 32,
   "metadata": {
    "collapsed": true
   },
   "outputs": [],
   "source": [
    "results = Parallel(n_jobs=4)(delayed(rand_string)(5)\n",
    "                             for _ in range(100))"
   ]
  },
  {
   "cell_type": "code",
   "execution_count": 33,
   "metadata": {},
   "outputs": [
    {
     "name": "stdout",
     "output_type": "stream",
     "text": [
      "['9Lio6', 'jlTWo', '5iMIH', 'xddk1', 'UeUOu', '1vItp', '7pvO9', 'hJE3N', 'hzJVT', 'GXQuv', 'q10Nq', 'VqNIo', '1EXpW', '3iHKg', 'nzsR3', 'AEsPW', 'Wy0eA', 'Wvbim', 'AcyR2', 'Y1OLq', '1eGHF', 'hzgZi', 'r43Ep', '6CLut', 'q9KJb', 'evzMF', 'NLqT2', 'o2LoC', 'jPeIo', 'K50D5', '679DH', '8Oyli', 's72yA', 'KxMTu', 'o3oRQ', 's9BDq', 'WJWm8', 'Qdmwm', '4fhq2', 'yt9ZC', 'xkHFw', 'Hk71o', '0u7j8', 'kC3pP', 'ZbF8f', 'BD60b', 'Mdjio', '38Xme', 'dAlnD', 'm5DgS', 'jzhmd', 'tcEws', 'Kon58', 'wtfI2', 'CoeCe', 'SdlaI', 'FPEQ4', '7YCGK', 'ErX4C', 'QoYDL', 'KP40x', '1yJO1', 'HuRMJ', 'flJDX', '56a4p', 'JD4H9', 'Deiej', 'qm7Tc', 'XUdYW', 'yVc1x', '0sKoP', 'DYrDT', 'FhkLN', 'spldQ', 'qQOcH', '1hqcU', 'Eqvyd', 'uC2zx', '2kskz', 'gY0ZW', 'tHWTx', 'YNZe4', '9zT6o', 'pchmh', 'sRMxo', '7tX9S', 'dyTGv', 'NlEHd', 'uuRt2', 'FyiN9', 'rg41g', 'lkJ2W', '2pov3', 'xXtuS', 'yghrr', 'ieVGG', 'XpqG9', 'RBEMp', '6mdWz', 's3s4h']\n"
     ]
    }
   ],
   "source": [
    "print(results)"
   ]
  },
  {
   "cell_type": "code",
   "execution_count": 36,
   "metadata": {},
   "outputs": [
    {
     "name": "stdout",
     "output_type": "stream",
     "text": [
      "[(<function rand_string at 0x7f4970041268>, (5,), {}), (<function rand_string at 0x7f4970041268>, (5,), {}), (<function rand_string at 0x7f4970041268>, (5,), {})]\n"
     ]
    }
   ],
   "source": [
    "call = [delayed(rand_string)(5) for _ in range(3)]\n",
    "\n",
    "print(call)"
   ]
  },
  {
   "cell_type": "code",
   "execution_count": 37,
   "metadata": {},
   "outputs": [
    {
     "name": "stdout",
     "output_type": "stream",
     "text": [
      "(<function rand_string at 0x7f4970041268>, (5,), {})\n"
     ]
    }
   ],
   "source": [
    "single_call = call[0]\n",
    "\n",
    "print(single_call)"
   ]
  },
  {
   "cell_type": "code",
   "execution_count": 38,
   "metadata": {},
   "outputs": [
    {
     "name": "stdout",
     "output_type": "stream",
     "text": [
      "drfXA\n"
     ]
    }
   ],
   "source": [
    "print(single_call[0](*single_call[1]))"
   ]
  }
 ],
 "metadata": {
  "kernelspec": {
   "display_name": "Python 3",
   "language": "python",
   "name": "python3"
  },
  "language_info": {
   "codemirror_mode": {
    "name": "ipython",
    "version": 3
   },
   "file_extension": ".py",
   "mimetype": "text/x-python",
   "name": "python",
   "nbconvert_exporter": "python",
   "pygments_lexer": "ipython3",
   "version": "3.6.4"
  }
 },
 "nbformat": 4,
 "nbformat_minor": 2
}
