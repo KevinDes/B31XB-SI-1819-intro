{
 "cells": [
  {
   "cell_type": "code",
   "execution_count": 1,
   "metadata": {
    "collapsed": true
   },
   "outputs": [],
   "source": [
    "import time\n",
    "\n",
    "from joblib import Parallel, Memory, delayed"
   ]
  },
  {
   "cell_type": "code",
   "execution_count": 3,
   "metadata": {},
   "outputs": [],
   "source": [
    "memory = Memory('cachedir', verbose=100)"
   ]
  },
  {
   "cell_type": "code",
   "execution_count": 4,
   "metadata": {
    "collapsed": true
   },
   "outputs": [],
   "source": [
    "def func(x):\n",
    "    time.sleep(4)\n",
    "    return x"
   ]
  },
  {
   "cell_type": "markdown",
   "metadata": {},
   "source": [
    "#### Original function - slow function"
   ]
  },
  {
   "cell_type": "code",
   "execution_count": 5,
   "metadata": {},
   "outputs": [
    {
     "name": "stdout",
     "output_type": "stream",
     "text": [
      "\n",
      " Elapsed time 8.01 s\n"
     ]
    }
   ],
   "source": [
    "start = time.time()\n",
    "for x in [2, 5]:\n",
    "    func(x)\n",
    "stop = time.time()\n",
    "print('\\n Elapsed time {:.2f} s'.format(stop - start))"
   ]
  },
  {
   "cell_type": "markdown",
   "metadata": {},
   "source": [
    "#### Parallel processing the same function"
   ]
  },
  {
   "cell_type": "code",
   "execution_count": 6,
   "metadata": {},
   "outputs": [
    {
     "name": "stdout",
     "output_type": "stream",
     "text": [
      "\n",
      " Elapsed time 4.08 s\n"
     ]
    }
   ],
   "source": [
    "start = time.time()\n",
    "res = Parallel(n_jobs=2)(delayed(func)(x)\n",
    "                         for x in [2, 5])\n",
    "stop = time.time()\n",
    "print('\\n Elapsed time {:.2f} s'.format(stop - start))"
   ]
  },
  {
   "cell_type": "code",
   "execution_count": 7,
   "metadata": {},
   "outputs": [
    {
     "name": "stdout",
     "output_type": "stream",
     "text": [
      "\n",
      " Elapsed time 8.08 s\n"
     ]
    }
   ],
   "source": [
    "start = time.time()\n",
    "res = Parallel(n_jobs=2)(delayed(func)(x)\n",
    "                         for x in [2, 5, 8])\n",
    "stop = time.time()\n",
    "print('\\n Elapsed time {:.2f} s'.format(stop - start))"
   ]
  },
  {
   "cell_type": "markdown",
   "metadata": {},
   "source": [
    "#### Caching the function in memory"
   ]
  },
  {
   "cell_type": "code",
   "execution_count": 8,
   "metadata": {},
   "outputs": [
    {
     "name": "stderr",
     "output_type": "stream",
     "text": [
      "WARNING:root:[MemorizedFunc(func=<function func at 0x7fac6f0fd400>, cachedir='cachedir/joblib')]: Function func (stored in cachedir/joblib/__main__--home-lemaitre-Documents-Teaching-B31XB-SI-B31XB-SI-1819-python_intro-__ipython-input__/func) has changed.\n",
      "WARNING:root:[MemorizedFunc(func=<function func at 0x7fac6f0fd400>, cachedir='cachedir/joblib')]: Function func (stored in cachedir/joblib/__main__--home-lemaitre-Documents-Teaching-B31XB-SI-B31XB-SI-1819-python_intro-__ipython-input__/func) has changed.\n",
      "WARNING:root:[MemorizedFunc(func=<function func at 0x7fac6f0fd400>, cachedir='cachedir/joblib')]: Clearing cache cachedir/joblib/__main__--home-lemaitre-Documents-Teaching-B31XB-SI-B31XB-SI-1819-python_intro-__ipython-input__/func\n",
      "WARNING:root:[MemorizedFunc(func=<function func at 0x7fac6f0fd400>, cachedir='cachedir/joblib')]: Clearing cache cachedir/joblib/__main__--home-lemaitre-Documents-Teaching-B31XB-SI-B31XB-SI-1819-python_intro-__ipython-input__/func\n",
      "WARNING:root:[MemorizedFunc(func=<function func at 0x7fac6f0fd400>, cachedir='cachedir/joblib')]: Computing func func, argument hash fb65b1dace3932d1e66549411e3310b6 in directory cachedir/joblib/__main__--home-lemaitre-Documents-Teaching-B31XB-SI-B31XB-SI-1819-python_intro-__ipython-input__/func/fb65b1dace3932d1e66549411e3310b6\n"
     ]
    },
    {
     "name": "stdout",
     "output_type": "stream",
     "text": [
      "________________________________________________________________________________\n",
      "[Memory] Calling __main__--home-lemaitre-Documents-Teaching-B31XB-SI-B31XB-SI-1819-python_intro-__ipython-input__.func...\n",
      "func(2)"
     ]
    },
    {
     "name": "stderr",
     "output_type": "stream",
     "text": [
      "WARNING:root:[MemorizedFunc(func=<function func at 0x7fac6f0fd400>, cachedir='cachedir/joblib')]: Computing func func, argument hash c4053cb4b520577c2d391b8d7b7f97f1 in directory cachedir/joblib/__main__--home-lemaitre-Documents-Teaching-B31XB-SI-B31XB-SI-1819-python_intro-__ipython-input__/func/c4053cb4b520577c2d391b8d7b7f97f1\n"
     ]
    },
    {
     "name": "stdout",
     "output_type": "stream",
     "text": [
      "\n",
      "________________________________________________________________________________\n",
      "[Memory] Calling __main__--home-lemaitre-Documents-Teaching-B31XB-SI-B31XB-SI-1819-python_intro-__ipython-input__.func...\n",
      "func(5)\n",
      "Persisting in cachedir/joblib/__main__--home-lemaitre-Documents-Teaching-B31XB-SI-B31XB-SI-1819-python_intro-__ipython-input__/func/c4053cb4b520577c2d391b8d7b7f97f1\n",
      "Persisting in cachedir/joblib/__main__--home-lemaitre-Documents-Teaching-B31XB-SI-B31XB-SI-1819-python_intro-__ipython-input__/func/fb65b1dace3932d1e66549411e3310b6\n",
      "_____________________________________________________________func - 4.0s, 0.1min\n",
      "_____________________________________________________________func - 4.0s, 0.1min\n",
      "\n",
      " Elapsed time 4.18 s\n"
     ]
    }
   ],
   "source": [
    "func_cached = memory.cache(func)\n",
    "\n",
    "start = time.time()\n",
    "res = Parallel(n_jobs=2)(delayed(func_cached)(x)\n",
    "                         for x in [2, 5])\n",
    "stop = time.time()\n",
    "print('\\n Elapsed time {:.2f} s'.format(stop - start))"
   ]
  },
  {
   "cell_type": "code",
   "execution_count": 9,
   "metadata": {},
   "outputs": [
    {
     "name": "stdout",
     "output_type": "stream",
     "text": [
      "[Memory]    0.0s, 0.0min: Loading func from cachedir/joblib/__main__--home-lemaitre-Documents-Teaching-B31XB-SI-B31XB-SI-1819-python_intro-__ipython-input__/func/fb65b1dace3932d1e66549411e3310b6\n",
      "[Memory]    0.0s, 0.0min: Loading func from cachedir/joblib/__main__--home-lemaitre-Documents-Teaching-B31XB-SI-B31XB-SI-1819-python_intro-__ipython-input__/func/c4053cb4b520577c2d391b8d7b7f97f1\n",
      "________________________________________________func cache loaded - 0.0s, 0.0min\n",
      "________________________________________________func cache loaded - 0.0s, 0.0min\n"
     ]
    },
    {
     "name": "stderr",
     "output_type": "stream",
     "text": [
      "WARNING:root:[MemorizedFunc(func=<function func at 0x7fac6f0fd400>, cachedir='cachedir/joblib')]: Computing func func, argument hash 1dee0b5463ba4cda03a341f6d73092c2 in directory cachedir/joblib/__main__--home-lemaitre-Documents-Teaching-B31XB-SI-B31XB-SI-1819-python_intro-__ipython-input__/func/1dee0b5463ba4cda03a341f6d73092c2\n"
     ]
    },
    {
     "name": "stdout",
     "output_type": "stream",
     "text": [
      "________________________________________________________________________________\n",
      "[Memory] Calling __main__--home-lemaitre-Documents-Teaching-B31XB-SI-B31XB-SI-1819-python_intro-__ipython-input__.func...\n",
      "func(8)"
     ]
    },
    {
     "name": "stderr",
     "output_type": "stream",
     "text": [
      "WARNING:root:[MemorizedFunc(func=<function func at 0x7fac6f0fd400>, cachedir='cachedir/joblib')]: Computing func func, argument hash 1d57c12eb7e5ebcc7910478490915e9a in directory cachedir/joblib/__main__--home-lemaitre-Documents-Teaching-B31XB-SI-B31XB-SI-1819-python_intro-__ipython-input__/func/1d57c12eb7e5ebcc7910478490915e9a\n"
     ]
    },
    {
     "name": "stdout",
     "output_type": "stream",
     "text": [
      "\n",
      "________________________________________________________________________________\n",
      "[Memory] Calling __main__--home-lemaitre-Documents-Teaching-B31XB-SI-B31XB-SI-1819-python_intro-__ipython-input__.func...\n",
      "func(10)\n",
      "Persisting in cachedir/joblib/__main__--home-lemaitre-Documents-Teaching-B31XB-SI-B31XB-SI-1819-python_intro-__ipython-input__/func/1dee0b5463ba4cda03a341f6d73092c2\n",
      "_____________________________________________________________func - 4.0s, 0.1min\n",
      "Persisting in cachedir/joblib/__main__--home-lemaitre-Documents-Teaching-B31XB-SI-B31XB-SI-1819-python_intro-__ipython-input__/func/1d57c12eb7e5ebcc7910478490915e9a\n",
      "_____________________________________________________________func - 4.0s, 0.1min\n",
      "\n",
      " Elapsed time 4.17 s\n"
     ]
    }
   ],
   "source": [
    "start = time.time()\n",
    "res = Parallel(n_jobs=2)(delayed(func_cached)(x)\n",
    "                         for x in [2, 5, 8, 10])\n",
    "stop = time.time()\n",
    "print('\\n Elapsed time {:.2f} s'.format(stop - start))"
   ]
  },
  {
   "cell_type": "code",
   "execution_count": 10,
   "metadata": {},
   "outputs": [
    {
     "name": "stdout",
     "output_type": "stream",
     "text": [
      "[Memory]    0.0s, 0.0min: Loading func from cachedir/joblib/__main__--home-lemaitre-Documents-Teaching-B31XB-SI-B31XB-SI-1819-python_intro-__ipython-input__/func/fb65b1dace3932d1e66549411e3310b6\n",
      "________________________________________________func cache loaded - 0.0s, 0.0min\n",
      "[Memory]    0.0s, 0.0min: Loading func from cachedir/joblib/__main__--home-lemaitre-Documents-Teaching-B31XB-SI-B31XB-SI-1819-python_intro-__ipython-input__/func/c4053cb4b520577c2d391b8d7b7f97f1\n",
      "[Memory]    0.0s, 0.0min: Loading func from cachedir/joblib/__main__--home-lemaitre-Documents-Teaching-B31XB-SI-B31XB-SI-1819-python_intro-__ipython-input__/func/1dee0b5463ba4cda03a341f6d73092c2\n",
      "________________________________________________func cache loaded - 0.0s, 0.0min\n",
      "________________________________________________func cache loaded - 0.0s, 0.0min\n",
      "[Memory]    0.0s, 0.0min: Loading func from cachedir/joblib/__main__--home-lemaitre-Documents-Teaching-B31XB-SI-B31XB-SI-1819-python_intro-__ipython-input__/func/1d57c12eb7e5ebcc7910478490915e9a\n",
      "________________________________________________func cache loaded - 0.0s, 0.0min\n",
      "\n",
      " Elapsed time 0.16 s\n"
     ]
    }
   ],
   "source": [
    "start = time.time()\n",
    "res = Parallel(n_jobs=2)(delayed(func_cached)(x)\n",
    "                         for x in [2, 5, 8, 10])\n",
    "stop = time.time()\n",
    "print('\\n Elapsed time {:.2f} s'.format(stop - start))"
   ]
  },
  {
   "cell_type": "code",
   "execution_count": 11,
   "metadata": {},
   "outputs": [
    {
     "name": "stderr",
     "output_type": "stream",
     "text": [
      "WARNING:root:[Memory(cachedir='cachedir/joblib')]: Flushing completely the cache\n"
     ]
    }
   ],
   "source": [
    "\n",
    "memory.clear()"
   ]
  },
  {
   "cell_type": "code",
   "execution_count": null,
   "metadata": {
    "collapsed": true
   },
   "outputs": [],
   "source": []
  }
 ],
 "metadata": {
  "kernelspec": {
   "display_name": "Python 3",
   "language": "python",
   "name": "python3"
  },
  "language_info": {
   "codemirror_mode": {
    "name": "ipython",
    "version": 3
   },
   "file_extension": ".py",
   "mimetype": "text/x-python",
   "name": "python",
   "nbconvert_exporter": "python",
   "pygments_lexer": "ipython3",
   "version": "3.6.4"
  }
 },
 "nbformat": 4,
 "nbformat_minor": 2
}
