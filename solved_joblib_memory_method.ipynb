{
 "cells": [
  {
   "cell_type": "code",
   "execution_count": 1,
   "metadata": {
    "collapsed": true
   },
   "outputs": [],
   "source": [
    "import time\n",
    "\n",
    "import numpy as np\n",
    "from scipy.linalg import svd\n",
    "\n",
    "from joblib import Memory"
   ]
  },
  {
   "cell_type": "markdown",
   "metadata": {},
   "source": [
    "Important, you should not defined the function insdide the class, the class is only handling the memory"
   ]
  },
  {
   "cell_type": "code",
   "execution_count": 2,
   "metadata": {
    "collapsed": true
   },
   "outputs": [],
   "source": [
    "rng = np.random.RandomState(42)\n",
    "\n",
    "\n",
    "def _func(X, n_components):\n",
    "    U, s, Vh = svd(X)\n",
    "    return X[:n_components]"
   ]
  },
  {
   "cell_type": "code",
   "execution_count": 3,
   "metadata": {
    "collapsed": true
   },
   "outputs": [],
   "source": [
    "class Algorithm(object):\n",
    "\n",
    "    def __init__(self, n_components=2, memory=None):\n",
    "        self.n_components = n_components\n",
    "        self.memory = memory\n",
    "\n",
    "    def extract(self, X):\n",
    "        if self.memory is not None:\n",
    "            func_cached = self.memory.cache(_func)\n",
    "        else:\n",
    "            func_cached = _func\n",
    "        return func_cached(X, self.n_components)"
   ]
  },
  {
   "cell_type": "code",
   "execution_count": 4,
   "metadata": {
    "collapsed": true
   },
   "outputs": [],
   "source": [
    "X = rng.randn(1000, 5000)\n",
    "alg = Algorithm()"
   ]
  },
  {
   "cell_type": "code",
   "execution_count": 5,
   "metadata": {},
   "outputs": [
    {
     "name": "stdout",
     "output_type": "stream",
     "text": [
      "Elapsed time: 6.36 s\n"
     ]
    }
   ],
   "source": [
    "start = time.time()\n",
    "alg.extract(X)\n",
    "stop = time.time()\n",
    "print('Elapsed time: {:.2f} s'.format(stop - start))"
   ]
  },
  {
   "cell_type": "code",
   "execution_count": 7,
   "metadata": {},
   "outputs": [
    {
     "name": "stderr",
     "output_type": "stream",
     "text": [
      "WARNING:root:[MemorizedFunc(func=<function _func at 0x7f33314658c8>, cachedir='cachedir/joblib')]: Computing func _func, argument hash 78f7de7522e761198dde9c07f17b8fa1 in directory cachedir/joblib/__main__--home-lemaitre-Documents-Teaching-B31XB-SI-B31XB-SI-1819-python_intro-__ipython-input__/_func/78f7de7522e761198dde9c07f17b8fa1\n"
     ]
    },
    {
     "name": "stdout",
     "output_type": "stream",
     "text": [
      "________________________________________________________________________________\n",
      "[Memory] Calling __main__--home-lemaitre-Documents-Teaching-B31XB-SI-B31XB-SI-1819-python_intro-__ipython-input__._func...\n",
      "_func(array([[ 0.496714, ..., -0.848066],\n",
      "       ..., \n",
      "       [ 0.920474, ..., -1.888663]]), \n",
      "2)\n",
      "Persisting in cachedir/joblib/__main__--home-lemaitre-Documents-Teaching-B31XB-SI-B31XB-SI-1819-python_intro-__ipython-input__/_func/78f7de7522e761198dde9c07f17b8fa1\n",
      "_____________________________________________________________func - 6.7s, 0.1min\n",
      "Elapsed time: 6.85 s\n"
     ]
    }
   ],
   "source": [
    "alg = Algorithm(memory=Memory('cachedir', verbose=100))\n",
    "\n",
    "start = time.time()\n",
    "alg.extract(X)\n",
    "stop = time.time()\n",
    "print('Elapsed time: {:.2f} s'.format(stop - start))"
   ]
  },
  {
   "cell_type": "code",
   "execution_count": 8,
   "metadata": {},
   "outputs": [
    {
     "name": "stdout",
     "output_type": "stream",
     "text": [
      "[Memory]   22.4s, 0.4min: Loading _func from cachedir/joblib/__main__--home-lemaitre-Documents-Teaching-B31XB-SI-B31XB-SI-1819-python_intro-__ipython-input__/_func/78f7de7522e761198dde9c07f17b8fa1\n",
      "________________________________________________func cache loaded - 0.0s, 0.0min\n",
      "Elapsed time: 0.08 s\n"
     ]
    }
   ],
   "source": [
    "start = time.time()\n",
    "alg.extract(X)\n",
    "stop = time.time()\n",
    "print('Elapsed time: {:.2f} s'.format(stop - start))"
   ]
  },
  {
   "cell_type": "code",
   "execution_count": null,
   "metadata": {
    "collapsed": true
   },
   "outputs": [],
   "source": []
  }
 ],
 "metadata": {
  "kernelspec": {
   "display_name": "Python 3",
   "language": "python",
   "name": "python3"
  },
  "language_info": {
   "codemirror_mode": {
    "name": "ipython",
    "version": 3
   },
   "file_extension": ".py",
   "mimetype": "text/x-python",
   "name": "python",
   "nbconvert_exporter": "python",
   "pygments_lexer": "ipython3",
   "version": "3.6.4"
  }
 },
 "nbformat": 4,
 "nbformat_minor": 2
}
