{
 "cells": [
  {
   "cell_type": "code",
   "execution_count": 16,
   "metadata": {
    "collapsed": true
   },
   "outputs": [],
   "source": [
    "import time\n",
    "\n",
    "import numpy as np\n",
    "from scipy.linalg import svd\n",
    "\n",
    "from joblib import Memory"
   ]
  },
  {
   "cell_type": "code",
   "execution_count": 17,
   "metadata": {
    "collapsed": true
   },
   "outputs": [],
   "source": [
    "rng = np.random.RandomState(42)\n",
    "\n",
    "\n",
    "def func(X, n_components=2):\n",
    "    U, s, Vh = svd(X)\n",
    "    return s[:n_components]"
   ]
  },
  {
   "cell_type": "code",
   "execution_count": 18,
   "metadata": {},
   "outputs": [
    {
     "name": "stdout",
     "output_type": "stream",
     "text": [
      "Elapsed time: 10.84 s\n"
     ]
    }
   ],
   "source": [
    "X = rng.randn(1000, 5000)\n",
    "\n",
    "start = time.time()\n",
    "func(X)\n",
    "stop = time.time()\n",
    "print('Elapsed time: {:.2f} s'.format(stop - start))"
   ]
  },
  {
   "cell_type": "code",
   "execution_count": 10,
   "metadata": {
    "collapsed": true
   },
   "outputs": [],
   "source": [
    "Memory??"
   ]
  },
  {
   "cell_type": "code",
   "execution_count": 22,
   "metadata": {},
   "outputs": [],
   "source": [
    "memory = Memory('cachedir', verbose=100)\n",
    "func_cached = memory.cache(func)"
   ]
  },
  {
   "cell_type": "code",
   "execution_count": 23,
   "metadata": {},
   "outputs": [
    {
     "name": "stderr",
     "output_type": "stream",
     "text": [
      "WARNING:root:[MemorizedFunc(func=<function func at 0x7f81e4187730>, cachedir='cachedir/joblib')]: Computing func func, argument hash 78f7de7522e761198dde9c07f17b8fa1 in directory cachedir/joblib/__main__--home-lemaitre-Documents-Teaching-B31XB-SI-B31XB-SI-1819-python_intro-__ipython-input__/func/78f7de7522e761198dde9c07f17b8fa1\n"
     ]
    },
    {
     "name": "stdout",
     "output_type": "stream",
     "text": [
      "________________________________________________________________________________\n",
      "[Memory] Calling __main__--home-lemaitre-Documents-Teaching-B31XB-SI-B31XB-SI-1819-python_intro-__ipython-input__.func...\n",
      "func(array([[ 0.496714, ..., -0.848066],\n",
      "       ..., \n",
      "       [ 0.920474, ..., -1.888663]]))\n",
      "Persisting in cachedir/joblib/__main__--home-lemaitre-Documents-Teaching-B31XB-SI-B31XB-SI-1819-python_intro-__ipython-input__/func/78f7de7522e761198dde9c07f17b8fa1\n",
      "____________________________________________________________func - 12.8s, 0.2min\n",
      "Elapsed time: 12.89 s\n"
     ]
    }
   ],
   "source": [
    "start = time.time()\n",
    "func_cached(X)\n",
    "stop = time.time()\n",
    "print('Elapsed time: {:.2f} s'.format(stop - start))\n"
   ]
  },
  {
   "cell_type": "code",
   "execution_count": 24,
   "metadata": {},
   "outputs": [
    {
     "name": "stdout",
     "output_type": "stream",
     "text": [
      "[Memory]   20.5s, 0.3min: Loading func from cachedir/joblib/__main__--home-lemaitre-Documents-Teaching-B31XB-SI-B31XB-SI-1819-python_intro-__ipython-input__/func/78f7de7522e761198dde9c07f17b8fa1\n",
      "________________________________________________func cache loaded - 0.0s, 0.0min\n",
      "Elapsed time: 0.09 s\n"
     ]
    }
   ],
   "source": [
    "start = time.time()\n",
    "func_cached(X)\n",
    "stop = time.time()\n",
    "print('Elapsed time: {:.2f} s'.format(stop - start))\n"
   ]
  },
  {
   "cell_type": "code",
   "execution_count": 25,
   "metadata": {},
   "outputs": [
    {
     "name": "stderr",
     "output_type": "stream",
     "text": [
      "WARNING:root:[MemorizedFunc(func=<function func at 0x7f81e4187730>, cachedir='cachedir/joblib')]: Computing func func, argument hash 4cb8736e250103f077cf35caac23bfac in directory cachedir/joblib/__main__--home-lemaitre-Documents-Teaching-B31XB-SI-B31XB-SI-1819-python_intro-__ipython-input__/func/4cb8736e250103f077cf35caac23bfac\n"
     ]
    },
    {
     "name": "stdout",
     "output_type": "stream",
     "text": [
      "________________________________________________________________________________\n",
      "[Memory] Calling __main__--home-lemaitre-Documents-Teaching-B31XB-SI-B31XB-SI-1819-python_intro-__ipython-input__.func...\n",
      "func(array([[-0.202746, ..., -0.415524],\n",
      "       ..., \n",
      "       [-0.699351, ...,  0.923612]]))\n",
      "Persisting in cachedir/joblib/__main__--home-lemaitre-Documents-Teaching-B31XB-SI-B31XB-SI-1819-python_intro-__ipython-input__/func/4cb8736e250103f077cf35caac23bfac\n",
      "____________________________________________________________func - 11.8s, 0.2min\n",
      "Elapsed time: 11.92 s\n"
     ]
    }
   ],
   "source": [
    "X = rng.randn(1000, 5000)\n",
    "\n",
    "start = time.time()\n",
    "func_cached(X)\n",
    "stop = time.time()\n",
    "print('Elapsed time: {:.2f} s'.format(stop - start))"
   ]
  },
  {
   "cell_type": "code",
   "execution_count": 21,
   "metadata": {},
   "outputs": [
    {
     "name": "stderr",
     "output_type": "stream",
     "text": [
      "WARNING:root:[Memory(cachedir='cachedir/joblib')]: Flushing completely the cache\n"
     ]
    }
   ],
   "source": [
    "memory.clear()"
   ]
  },
  {
   "cell_type": "code",
   "execution_count": null,
   "metadata": {
    "collapsed": true
   },
   "outputs": [],
   "source": []
  }
 ],
 "metadata": {
  "kernelspec": {
   "display_name": "Python 3",
   "language": "python",
   "name": "python3"
  },
  "language_info": {
   "codemirror_mode": {
    "name": "ipython",
    "version": 3
   },
   "file_extension": ".py",
   "mimetype": "text/x-python",
   "name": "python",
   "nbconvert_exporter": "python",
   "pygments_lexer": "ipython3",
   "version": "3.6.4"
  }
 },
 "nbformat": 4,
 "nbformat_minor": 2
}
